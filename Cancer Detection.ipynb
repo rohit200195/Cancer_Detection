{
 "cells": [
  {
   "cell_type": "markdown",
   "metadata": {},
   "source": [
    "<h1>KNN</h1>\n",
    "<h3>CANCER DETECTION USING K-NEAREST NEIGHBORS</h3>"
   ]
  },
  {
   "cell_type": "code",
   "execution_count": 11,
   "metadata": {
    "scrolled": true
   },
   "outputs": [
    {
     "name": "stdout",
     "output_type": "stream",
     "text": [
      "Requirement already satisfied: sklearn in e:\\anacond\\lib\\site-packages (0.0)\n",
      "Requirement already satisfied: scikit-learn in e:\\anacond\\lib\\site-packages (from sklearn) (0.22.1)\n",
      "Requirement already satisfied: joblib>=0.11 in e:\\anacond\\lib\\site-packages (from scikit-learn->sklearn) (0.14.1)\n",
      "Requirement already satisfied: scipy>=0.17.0 in e:\\anacond\\lib\\site-packages (from scikit-learn->sklearn) (1.4.1)\n",
      "Requirement already satisfied: numpy>=1.11.0 in e:\\anacond\\lib\\site-packages (from scikit-learn->sklearn) (1.18.1)\n",
      "Requirement already satisfied: mglearn==0.1.7 in e:\\anacond\\lib\\site-packages (0.1.7)\n",
      "Requirement already satisfied: scikit-learn in e:\\anacond\\lib\\site-packages (from mglearn==0.1.7) (0.22.1)\n",
      "Requirement already satisfied: matplotlib in e:\\anacond\\lib\\site-packages (from mglearn==0.1.7) (3.1.3)\n",
      "Requirement already satisfied: numpy in e:\\anacond\\lib\\site-packages (from mglearn==0.1.7) (1.18.1)\n",
      "Requirement already satisfied: pandas in e:\\anacond\\lib\\site-packages (from mglearn==0.1.7) (1.0.1)\n",
      "Requirement already satisfied: imageio in e:\\anacond\\lib\\site-packages (from mglearn==0.1.7) (2.6.1)\n",
      "Requirement already satisfied: cycler in e:\\anacond\\lib\\site-packages (from mglearn==0.1.7) (0.10.0)\n",
      "Requirement already satisfied: pillow in e:\\anacond\\lib\\site-packages (from mglearn==0.1.7) (7.0.0)\n",
      "Requirement already satisfied: scipy>=0.17.0 in e:\\anacond\\lib\\site-packages (from scikit-learn->mglearn==0.1.7) (1.4.1)\n",
      "Requirement already satisfied: joblib>=0.11 in e:\\anacond\\lib\\site-packages (from scikit-learn->mglearn==0.1.7) (0.14.1)\n",
      "Requirement already satisfied: python-dateutil>=2.1 in e:\\anacond\\lib\\site-packages (from matplotlib->mglearn==0.1.7) (2.8.1)\n",
      "Requirement already satisfied: pyparsing!=2.0.4,!=2.1.2,!=2.1.6,>=2.0.1 in e:\\anacond\\lib\\site-packages (from matplotlib->mglearn==0.1.7) (2.4.6)\n",
      "Requirement already satisfied: kiwisolver>=1.0.1 in e:\\anacond\\lib\\site-packages (from matplotlib->mglearn==0.1.7) (1.1.0)\n",
      "Requirement already satisfied: pytz>=2017.2 in e:\\anacond\\lib\\site-packages (from pandas->mglearn==0.1.7) (2019.3)\n",
      "Requirement already satisfied: six in e:\\anacond\\lib\\site-packages (from cycler->mglearn==0.1.7) (1.14.0)\n",
      "Requirement already satisfied: setuptools in e:\\anacond\\lib\\site-packages (from kiwisolver>=1.0.1->matplotlib->mglearn==0.1.7) (45.2.0.post20200210)\n",
      "Requirement already satisfied: scipy in e:\\anacond\\lib\\site-packages (1.4.1)\n",
      "Requirement already satisfied: numpy>=1.13.3 in e:\\anacond\\lib\\site-packages (from scipy) (1.18.1)\n",
      "Requirement already satisfied: numpy in e:\\anacond\\lib\\site-packages (1.18.1)\n"
     ]
    }
   ],
   "source": [
    "!pip install sklearn\n",
    "!pip install mglearn==0.1.7\n",
    "!pip install scipy\n",
    "!pip install numpy\n",
    "import numpy as np\n",
    "import seaborn as sns\n",
    "import mglearn\n",
    "import matplotlib.pyplot as plt"
   ]
  },
  {
   "cell_type": "code",
   "execution_count": 13,
   "metadata": {},
   "outputs": [
    {
     "name": "stdout",
     "output_type": "stream",
     "text": [
      "cancer keys : dict_keys(['data', 'target', 'target_names', 'DESCR', 'feature_names', 'filename'])\n"
     ]
    }
   ],
   "source": [
    "from sklearn.datasets import load_breast_cancer\n",
    "cancer = load_breast_cancer()\n",
    "print(\"cancer keys : {}\".format(cancer.keys()))"
   ]
  },
  {
   "cell_type": "code",
   "execution_count": 14,
   "metadata": {},
   "outputs": [
    {
     "name": "stdout",
     "output_type": "stream",
     "text": [
      "shape of the data : (569, 30)\n"
     ]
    }
   ],
   "source": [
    "print(\"shape of the data : {}\".format(cancer.data.shape))"
   ]
  },
  {
   "cell_type": "code",
   "execution_count": 18,
   "metadata": {},
   "outputs": [
    {
     "name": "stdout",
     "output_type": "stream",
     "text": [
      "sample counts of data :\n",
      "{'malignant': 212, 'benign': 357}\n"
     ]
    }
   ],
   "source": [
    "print(\"sample counts of data :\\n{}\".format({n: v for n,v in zip(cancer.target_names , np.bincount(cancer.target))}))"
   ]
  },
  {
   "cell_type": "code",
   "execution_count": 19,
   "metadata": {
    "scrolled": true
   },
   "outputs": [
    {
     "name": "stdout",
     "output_type": "stream",
     "text": [
      "feature names: \n",
      "['mean radius' 'mean texture' 'mean perimeter' 'mean area'\n",
      " 'mean smoothness' 'mean compactness' 'mean concavity'\n",
      " 'mean concave points' 'mean symmetry' 'mean fractal dimension'\n",
      " 'radius error' 'texture error' 'perimeter error' 'area error'\n",
      " 'smoothness error' 'compactness error' 'concavity error'\n",
      " 'concave points error' 'symmetry error' 'fractal dimension error'\n",
      " 'worst radius' 'worst texture' 'worst perimeter' 'worst area'\n",
      " 'worst smoothness' 'worst compactness' 'worst concavity'\n",
      " 'worst concave points' 'worst symmetry' 'worst fractal dimension']\n"
     ]
    }
   ],
   "source": [
    "print(\"feature names: \\n{}\".format(cancer.feature_names))"
   ]
  },
  {
   "cell_type": "code",
   "execution_count": 20,
   "metadata": {},
   "outputs": [],
   "source": [
    "from sklearn.model_selection import train_test_split\n",
    "X_train,X_test,y_train,y_test = train_test_split(cancer['data'],cancer['target'],random_state = 43)"
   ]
  },
  {
   "cell_type": "code",
   "execution_count": 21,
   "metadata": {},
   "outputs": [
    {
     "name": "stdout",
     "output_type": "stream",
     "text": [
      "x_train shape : (426, 30)\n",
      "y_train shape : (426,)\n"
     ]
    }
   ],
   "source": [
    "print(\"x_train shape : {}\".format(X_train.shape))\n",
    "print(\"y_train shape : {}\".format(y_train.shape))"
   ]
  },
  {
   "cell_type": "code",
   "execution_count": 22,
   "metadata": {},
   "outputs": [
    {
     "name": "stdout",
     "output_type": "stream",
     "text": [
      "x_test shape : (143, 30)\n",
      "y_test shape : (143,)\n"
     ]
    }
   ],
   "source": [
    "print(\"x_test shape : {}\".format(X_test.shape))\n",
    "print(\"y_test shape : {}\".format(y_test.shape))"
   ]
  },
  {
   "cell_type": "code",
   "execution_count": 24,
   "metadata": {},
   "outputs": [
    {
     "data": {
      "text/html": [
       "<div>\n",
       "<style scoped>\n",
       "    .dataframe tbody tr th:only-of-type {\n",
       "        vertical-align: middle;\n",
       "    }\n",
       "\n",
       "    .dataframe tbody tr th {\n",
       "        vertical-align: top;\n",
       "    }\n",
       "\n",
       "    .dataframe thead th {\n",
       "        text-align: right;\n",
       "    }\n",
       "</style>\n",
       "<table border=\"1\" class=\"dataframe\">\n",
       "  <thead>\n",
       "    <tr style=\"text-align: right;\">\n",
       "      <th></th>\n",
       "      <th>mean radius</th>\n",
       "      <th>mean texture</th>\n",
       "      <th>mean perimeter</th>\n",
       "      <th>mean area</th>\n",
       "      <th>mean smoothness</th>\n",
       "      <th>mean compactness</th>\n",
       "      <th>mean concavity</th>\n",
       "      <th>mean concave points</th>\n",
       "      <th>mean symmetry</th>\n",
       "      <th>mean fractal dimension</th>\n",
       "      <th>radius error</th>\n",
       "      <th>texture error</th>\n",
       "      <th>perimeter error</th>\n",
       "      <th>area error</th>\n",
       "      <th>smoothness error</th>\n",
       "      <th>compactness error</th>\n",
       "      <th>concavity error</th>\n",
       "      <th>concave points error</th>\n",
       "      <th>symmetry error</th>\n",
       "      <th>fractal dimension error</th>\n",
       "      <th>worst radius</th>\n",
       "      <th>worst texture</th>\n",
       "      <th>worst perimeter</th>\n",
       "      <th>worst area</th>\n",
       "      <th>worst smoothness</th>\n",
       "      <th>worst compactness</th>\n",
       "      <th>worst concavity</th>\n",
       "      <th>worst concave points</th>\n",
       "      <th>worst symmetry</th>\n",
       "      <th>worst fractal dimension</th>\n",
       "    </tr>\n",
       "  </thead>\n",
       "  <tbody>\n",
       "    <tr>\n",
       "      <th>0</th>\n",
       "      <td>12.770</td>\n",
       "      <td>21.41</td>\n",
       "      <td>82.02</td>\n",
       "      <td>507.4</td>\n",
       "      <td>0.08749</td>\n",
       "      <td>0.06601</td>\n",
       "      <td>0.03112</td>\n",
       "      <td>0.02864</td>\n",
       "      <td>0.1694</td>\n",
       "      <td>0.06287</td>\n",
       "      <td>0.7311</td>\n",
       "      <td>1.748</td>\n",
       "      <td>5.118</td>\n",
       "      <td>53.65</td>\n",
       "      <td>0.004571</td>\n",
       "      <td>0.01790</td>\n",
       "      <td>0.021760</td>\n",
       "      <td>0.017570</td>\n",
       "      <td>0.033730</td>\n",
       "      <td>0.005875</td>\n",
       "      <td>13.75</td>\n",
       "      <td>23.50</td>\n",
       "      <td>89.04</td>\n",
       "      <td>579.5</td>\n",
       "      <td>0.09388</td>\n",
       "      <td>0.08978</td>\n",
       "      <td>0.05186</td>\n",
       "      <td>0.04773</td>\n",
       "      <td>0.2179</td>\n",
       "      <td>0.06871</td>\n",
       "    </tr>\n",
       "    <tr>\n",
       "      <th>1</th>\n",
       "      <td>9.423</td>\n",
       "      <td>27.88</td>\n",
       "      <td>59.26</td>\n",
       "      <td>271.3</td>\n",
       "      <td>0.08123</td>\n",
       "      <td>0.04971</td>\n",
       "      <td>0.00000</td>\n",
       "      <td>0.00000</td>\n",
       "      <td>0.1742</td>\n",
       "      <td>0.06059</td>\n",
       "      <td>0.5375</td>\n",
       "      <td>2.927</td>\n",
       "      <td>3.618</td>\n",
       "      <td>29.11</td>\n",
       "      <td>0.011590</td>\n",
       "      <td>0.01124</td>\n",
       "      <td>0.000000</td>\n",
       "      <td>0.000000</td>\n",
       "      <td>0.030040</td>\n",
       "      <td>0.003324</td>\n",
       "      <td>10.49</td>\n",
       "      <td>34.24</td>\n",
       "      <td>66.50</td>\n",
       "      <td>330.6</td>\n",
       "      <td>0.10730</td>\n",
       "      <td>0.07158</td>\n",
       "      <td>0.00000</td>\n",
       "      <td>0.00000</td>\n",
       "      <td>0.2475</td>\n",
       "      <td>0.06969</td>\n",
       "    </tr>\n",
       "    <tr>\n",
       "      <th>2</th>\n",
       "      <td>10.170</td>\n",
       "      <td>14.88</td>\n",
       "      <td>64.55</td>\n",
       "      <td>311.9</td>\n",
       "      <td>0.11340</td>\n",
       "      <td>0.08061</td>\n",
       "      <td>0.01084</td>\n",
       "      <td>0.01290</td>\n",
       "      <td>0.2743</td>\n",
       "      <td>0.06960</td>\n",
       "      <td>0.5158</td>\n",
       "      <td>1.441</td>\n",
       "      <td>3.312</td>\n",
       "      <td>34.62</td>\n",
       "      <td>0.007514</td>\n",
       "      <td>0.01099</td>\n",
       "      <td>0.007665</td>\n",
       "      <td>0.008193</td>\n",
       "      <td>0.041830</td>\n",
       "      <td>0.005953</td>\n",
       "      <td>11.02</td>\n",
       "      <td>17.45</td>\n",
       "      <td>69.86</td>\n",
       "      <td>368.6</td>\n",
       "      <td>0.12750</td>\n",
       "      <td>0.09866</td>\n",
       "      <td>0.02168</td>\n",
       "      <td>0.02579</td>\n",
       "      <td>0.3557</td>\n",
       "      <td>0.08020</td>\n",
       "    </tr>\n",
       "    <tr>\n",
       "      <th>3</th>\n",
       "      <td>14.990</td>\n",
       "      <td>25.20</td>\n",
       "      <td>95.54</td>\n",
       "      <td>698.8</td>\n",
       "      <td>0.09387</td>\n",
       "      <td>0.05131</td>\n",
       "      <td>0.02398</td>\n",
       "      <td>0.02899</td>\n",
       "      <td>0.1565</td>\n",
       "      <td>0.05504</td>\n",
       "      <td>1.2140</td>\n",
       "      <td>2.188</td>\n",
       "      <td>8.077</td>\n",
       "      <td>106.00</td>\n",
       "      <td>0.006883</td>\n",
       "      <td>0.01094</td>\n",
       "      <td>0.018180</td>\n",
       "      <td>0.019170</td>\n",
       "      <td>0.007882</td>\n",
       "      <td>0.001754</td>\n",
       "      <td>14.99</td>\n",
       "      <td>25.20</td>\n",
       "      <td>95.54</td>\n",
       "      <td>698.8</td>\n",
       "      <td>0.09387</td>\n",
       "      <td>0.05131</td>\n",
       "      <td>0.02398</td>\n",
       "      <td>0.02899</td>\n",
       "      <td>0.1565</td>\n",
       "      <td>0.05504</td>\n",
       "    </tr>\n",
       "    <tr>\n",
       "      <th>4</th>\n",
       "      <td>14.470</td>\n",
       "      <td>24.99</td>\n",
       "      <td>95.81</td>\n",
       "      <td>656.4</td>\n",
       "      <td>0.08837</td>\n",
       "      <td>0.12300</td>\n",
       "      <td>0.10090</td>\n",
       "      <td>0.03890</td>\n",
       "      <td>0.1872</td>\n",
       "      <td>0.06341</td>\n",
       "      <td>0.2542</td>\n",
       "      <td>1.079</td>\n",
       "      <td>2.615</td>\n",
       "      <td>23.11</td>\n",
       "      <td>0.007138</td>\n",
       "      <td>0.04653</td>\n",
       "      <td>0.038290</td>\n",
       "      <td>0.011620</td>\n",
       "      <td>0.020680</td>\n",
       "      <td>0.006111</td>\n",
       "      <td>16.22</td>\n",
       "      <td>31.73</td>\n",
       "      <td>113.50</td>\n",
       "      <td>808.9</td>\n",
       "      <td>0.13400</td>\n",
       "      <td>0.42020</td>\n",
       "      <td>0.40400</td>\n",
       "      <td>0.12050</td>\n",
       "      <td>0.3187</td>\n",
       "      <td>0.10230</td>\n",
       "    </tr>\n",
       "  </tbody>\n",
       "</table>\n",
       "</div>"
      ],
      "text/plain": [
       "   mean radius  mean texture  mean perimeter  mean area  mean smoothness  \\\n",
       "0       12.770         21.41           82.02      507.4          0.08749   \n",
       "1        9.423         27.88           59.26      271.3          0.08123   \n",
       "2       10.170         14.88           64.55      311.9          0.11340   \n",
       "3       14.990         25.20           95.54      698.8          0.09387   \n",
       "4       14.470         24.99           95.81      656.4          0.08837   \n",
       "\n",
       "   mean compactness  mean concavity  mean concave points  mean symmetry  \\\n",
       "0           0.06601         0.03112              0.02864         0.1694   \n",
       "1           0.04971         0.00000              0.00000         0.1742   \n",
       "2           0.08061         0.01084              0.01290         0.2743   \n",
       "3           0.05131         0.02398              0.02899         0.1565   \n",
       "4           0.12300         0.10090              0.03890         0.1872   \n",
       "\n",
       "   mean fractal dimension  radius error  texture error  perimeter error  \\\n",
       "0                 0.06287        0.7311          1.748            5.118   \n",
       "1                 0.06059        0.5375          2.927            3.618   \n",
       "2                 0.06960        0.5158          1.441            3.312   \n",
       "3                 0.05504        1.2140          2.188            8.077   \n",
       "4                 0.06341        0.2542          1.079            2.615   \n",
       "\n",
       "   area error  smoothness error  compactness error  concavity error  \\\n",
       "0       53.65          0.004571            0.01790         0.021760   \n",
       "1       29.11          0.011590            0.01124         0.000000   \n",
       "2       34.62          0.007514            0.01099         0.007665   \n",
       "3      106.00          0.006883            0.01094         0.018180   \n",
       "4       23.11          0.007138            0.04653         0.038290   \n",
       "\n",
       "   concave points error  symmetry error  fractal dimension error  \\\n",
       "0              0.017570        0.033730                 0.005875   \n",
       "1              0.000000        0.030040                 0.003324   \n",
       "2              0.008193        0.041830                 0.005953   \n",
       "3              0.019170        0.007882                 0.001754   \n",
       "4              0.011620        0.020680                 0.006111   \n",
       "\n",
       "   worst radius  worst texture  worst perimeter  worst area  worst smoothness  \\\n",
       "0         13.75          23.50            89.04       579.5           0.09388   \n",
       "1         10.49          34.24            66.50       330.6           0.10730   \n",
       "2         11.02          17.45            69.86       368.6           0.12750   \n",
       "3         14.99          25.20            95.54       698.8           0.09387   \n",
       "4         16.22          31.73           113.50       808.9           0.13400   \n",
       "\n",
       "   worst compactness  worst concavity  worst concave points  worst symmetry  \\\n",
       "0            0.08978          0.05186               0.04773          0.2179   \n",
       "1            0.07158          0.00000               0.00000          0.2475   \n",
       "2            0.09866          0.02168               0.02579          0.3557   \n",
       "3            0.05131          0.02398               0.02899          0.1565   \n",
       "4            0.42020          0.40400               0.12050          0.3187   \n",
       "\n",
       "   worst fractal dimension  \n",
       "0                  0.06871  \n",
       "1                  0.06969  \n",
       "2                  0.08020  \n",
       "3                  0.05504  \n",
       "4                  0.10230  "
      ]
     },
     "execution_count": 24,
     "metadata": {},
     "output_type": "execute_result"
    }
   ],
   "source": [
    "pd.set_option('display.max_columns', 50)\n",
    "secancer_dataframe = pd.DataFrame(X_train,columns = cancer.feature_names)\n",
    "cancer_dataframe.head()"
   ]
  },
  {
   "cell_type": "code",
   "execution_count": 36,
   "metadata": {},
   "outputs": [],
   "source": [
    "from sklearn.neighbors import KNeighborsClassifier\n",
    "knn = KNeighborsClassifier(n_neighbors=7)"
   ]
  },
  {
   "cell_type": "code",
   "execution_count": 37,
   "metadata": {},
   "outputs": [
    {
     "data": {
      "text/plain": [
       "KNeighborsClassifier(algorithm='auto', leaf_size=30, metric='minkowski',\n",
       "                     metric_params=None, n_jobs=None, n_neighbors=7, p=2,\n",
       "                     weights='uniform')"
      ]
     },
     "execution_count": 37,
     "metadata": {},
     "output_type": "execute_result"
    }
   ],
   "source": [
    "knn.fit(X_train,y_train)"
   ]
  },
  {
   "cell_type": "code",
   "execution_count": 38,
   "metadata": {
    "scrolled": true
   },
   "outputs": [
    {
     "name": "stdout",
     "output_type": "stream",
     "text": [
      "Test set predictions : \n",
      " [1 1 0 0 0 0 1 1 0 0 1 1 1 1 0 1 1 0 1 0 1 1 0 1 0 1 1 1 0 1 1 0 1 1 1 1 1\n",
      " 0 1 1 1 1 1 1 0 0 0 1 1 1 1 1 1 0 1 1 0 1 0 1 1 0 1 0 0 1 0 1 0 1 1 0 1 1\n",
      " 1 1 1 0 1 1 1 1 0 1 1 0 1 1 0 1 0 0 0 1 1 1 0 1 1 1 1 0 1 1 0 0 1 0 1 1 1\n",
      " 1 1 1 1 0 1 1 1 0 0 1 1 0 1 1 1 1 1 0 1 1 1 1 1 1 1 1 1 1 1 1 0]\n"
     ]
    }
   ],
   "source": [
    "y_pred = knn.predict(X_test)\n",
    "print('Test set predictions : \\n {}'.format(y_pred))"
   ]
  },
  {
   "cell_type": "code",
   "execution_count": 39,
   "metadata": {},
   "outputs": [
    {
     "data": {
      "text/plain": [
       "array([1, 1, 0, 0, 0, 1, 1, 1, 0, 0, 1, 1, 1, 1, 0, 0, 1, 0, 1, 0, 0, 1,\n",
       "       0, 1, 0, 1, 1, 1, 0, 1, 1, 0, 1, 1, 1, 1, 1, 0, 1, 1, 1, 1, 1, 1,\n",
       "       0, 0, 0, 1, 1, 1, 1, 1, 1, 0, 1, 1, 0, 1, 0, 1, 1, 0, 1, 0, 0, 1,\n",
       "       0, 1, 0, 1, 1, 0, 1, 1, 1, 1, 1, 0, 1, 1, 1, 1, 0, 1, 1, 0, 1, 1,\n",
       "       0, 1, 0, 0, 0, 1, 1, 1, 0, 1, 1, 1, 1, 0, 1, 1, 0, 0, 1, 0, 1, 1,\n",
       "       1, 1, 1, 1, 1, 0, 1, 1, 1, 0, 0, 1, 1, 0, 0, 1, 1, 1, 1, 0, 1, 1,\n",
       "       1, 1, 1, 1, 1, 1, 1, 1, 1, 1, 0])"
      ]
     },
     "execution_count": 39,
     "metadata": {},
     "output_type": "execute_result"
    }
   ],
   "source": [
    "y_test"
   ]
  },
  {
   "cell_type": "code",
   "execution_count": 40,
   "metadata": {},
   "outputs": [
    {
     "name": "stdout",
     "output_type": "stream",
     "text": [
      "Test score is : 0.972\n"
     ]
    }
   ],
   "source": [
    "#using score method \n",
    "print(\"Test score is : {:.3f}\".format(knn.score(X_test,y_test)))"
   ]
  },
  {
   "cell_type": "code",
   "execution_count": null,
   "metadata": {},
   "outputs": [],
   "source": []
  },
  {
   "cell_type": "code",
   "execution_count": null,
   "metadata": {},
   "outputs": [],
   "source": []
  }
 ],
 "metadata": {
  "kernelspec": {
   "display_name": "Python 3",
   "language": "python",
   "name": "python3"
  },
  "language_info": {
   "codemirror_mode": {
    "name": "ipython",
    "version": 3
   },
   "file_extension": ".py",
   "mimetype": "text/x-python",
   "name": "python",
   "nbconvert_exporter": "python",
   "pygments_lexer": "ipython3",
   "version": "3.7.6"
  }
 },
 "nbformat": 4,
 "nbformat_minor": 4
}
